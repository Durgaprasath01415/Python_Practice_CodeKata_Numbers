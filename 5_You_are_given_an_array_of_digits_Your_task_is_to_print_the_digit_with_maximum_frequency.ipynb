{
  "nbformat": 4,
  "nbformat_minor": 0,
  "metadata": {
    "colab": {
      "provenance": [],
      "authorship_tag": "ABX9TyP0/sSywWrRLiRqDzQ/uPvW",
      "include_colab_link": true
    },
    "kernelspec": {
      "name": "python3",
      "display_name": "Python 3"
    },
    "language_info": {
      "name": "python"
    }
  },
  "cells": [
    {
      "cell_type": "markdown",
      "metadata": {
        "id": "view-in-github",
        "colab_type": "text"
      },
      "source": [
        "<a href=\"https://colab.research.google.com/github/Durgaprasath01415/Python_Practice_CodeKata_Numbers/blob/main/5_You_are_given_an_array_of_digits_Your_task_is_to_print_the_digit_with_maximum_frequency.ipynb\" target=\"_parent\"><img src=\"https://colab.research.google.com/assets/colab-badge.svg\" alt=\"Open In Colab\"/></a>"
      ]
    },
    {
      "cell_type": "markdown",
      "source": [
        "You are given an array of digits. Your task is to print the digit with maximum frequency.\n",
        "\n",
        "\n",
        "Input Description:\n",
        "You are given length of array ’n’,next line contains n space separated numbers.\n",
        "\n",
        "Output Description:\n",
        "Print the number with maximum frequency. If two number have equal freqency prin the number that comes first\n",
        "\n",
        "Sample Input :\n",
        "7\n",
        "1 2 3 4 4 4 5\n",
        "Sample Output :\n",
        "4"
      ],
      "metadata": {
        "id": "72j_DRTJfVva"
      }
    },
    {
      "cell_type": "code",
      "execution_count": null,
      "metadata": {
        "id": "DZ6SR8ssfKeN"
      },
      "outputs": [],
      "source": [
        "n = int(input())\n",
        "nums = list(map(int,input().split()))\n",
        "count = {}\n",
        "max_count = 0\n",
        "max_num = None\n",
        "for i in nums:\n",
        "  count.update({i:nums.count(i)})\n",
        "  if count[i] > max_count:\n",
        "        max_count = count[i]\n",
        "        max_num = i\n",
        "print(max_num)"
      ]
    }
  ]
}