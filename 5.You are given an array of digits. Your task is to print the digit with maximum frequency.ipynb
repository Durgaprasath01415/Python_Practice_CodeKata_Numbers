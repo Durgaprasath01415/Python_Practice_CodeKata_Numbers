You are given an array of digits. Your task is to print the digit with maximum frequency.

Input Description:
You are given length of array ’n’,next line contains n space separated numbers.

Output Description:
Print the number with maximum frequency. If two number have equal freqency prin the number that comes first

Sample Input :
7
1 2 3 4 4 4 5
Sample Output :
4

n = int(input())
nums = list(map(int,input().split()))
count = {}
max_count = 0
max_num = None
for i in nums:
  count.update({i:nums.count(i)})
  if count[i] > max_count:
        max_count = count[i]
        max_num = i
print(max_num)
