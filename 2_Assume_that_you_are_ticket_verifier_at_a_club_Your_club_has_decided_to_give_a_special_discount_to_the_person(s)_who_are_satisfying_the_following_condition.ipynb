{
  "nbformat": 4,
  "nbformat_minor": 0,
  "metadata": {
    "colab": {
      "provenance": [],
      "authorship_tag": "ABX9TyO6GU083+XGdErmO9ok0yO4",
      "include_colab_link": true
    },
    "kernelspec": {
      "name": "python3",
      "display_name": "Python 3"
    },
    "language_info": {
      "name": "python"
    }
  },
  "cells": [
    {
      "cell_type": "markdown",
      "metadata": {
        "id": "view-in-github",
        "colab_type": "text"
      },
      "source": [
        "<a href=\"https://colab.research.google.com/github/Durgaprasath01415/Python_Practice_CodeKata_Numbers/blob/main/2_Assume_that_you_are_ticket_verifier_at_a_club_Your_club_has_decided_to_give_a_special_discount_to_the_person(s)_who_are_satisfying_the_following_condition.ipynb\" target=\"_parent\"><img src=\"https://colab.research.google.com/assets/colab-badge.svg\" alt=\"Open In Colab\"/></a>"
      ]
    },
    {
      "cell_type": "markdown",
      "source": [
        "Assume that you are ticket verifier at a club. Your club has decided to give a special discount to the person(s) who are satisfying the following condition\n",
        "\n",
        "Condition:-\n",
        "If ticket number is divisible by date of month. You are eligible for a discount.\n",
        "Input Description:\n",
        "First line contains input ‘n’.Next line contains n space separated numbers denoting ticket numbers .Next line contains ‘k’ date of the month.\n",
        "Output Description:\n",
        "Print 1 if the ticket is eligible for discount else 0\n",
        "\n",
        "Sample Input :\n",
        "6\n",
        "112 139 165 175 262 130\n",
        "22\n",
        "Sample Output :\n",
        "0 0 0 0 0 0"
      ],
      "metadata": {
        "id": "x86oVirxfyuy"
      }
    },
    {
      "cell_type": "code",
      "execution_count": null,
      "metadata": {
        "colab": {
          "base_uri": "https://localhost:8080/"
        },
        "id": "W4jvJ4I6T5oL",
        "outputId": "7cd38e6d-86eb-43c0-d0dc-05cd2565d018"
      },
      "outputs": [
        {
          "output_type": "stream",
          "name": "stdout",
          "text": [
            "6\n",
            "112 139 165 175 262 130\n",
            "22\n",
            "[0, 0, 0, 0, 0, 0]\n"
          ]
        }
      ],
      "source": [
        "n = int(input())\n",
        "N = map(int,input().split())\n",
        "k = int(input())\n",
        "\n",
        "res = []\n",
        "for i in N:\n",
        "    if i % k == 0:\n",
        "        res.append(1)\n",
        "    else:\n",
        "        res.append(0)\n",
        "\n",
        "print(*res)"
      ]
    }
  ]
}