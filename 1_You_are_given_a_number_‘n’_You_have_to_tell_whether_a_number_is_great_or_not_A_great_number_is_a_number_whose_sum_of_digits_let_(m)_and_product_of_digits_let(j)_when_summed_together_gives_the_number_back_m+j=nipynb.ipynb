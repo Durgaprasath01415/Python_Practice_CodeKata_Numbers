{
  "nbformat": 4,
  "nbformat_minor": 0,
  "metadata": {
    "colab": {
      "provenance": [],
      "authorship_tag": "ABX9TyOPqn3oBzRevO2Vu08KtGAG",
      "include_colab_link": true
    },
    "kernelspec": {
      "name": "python3",
      "display_name": "Python 3"
    },
    "language_info": {
      "name": "python"
    }
  },
  "cells": [
    {
      "cell_type": "markdown",
      "metadata": {
        "id": "view-in-github",
        "colab_type": "text"
      },
      "source": [
        "<a href=\"https://colab.research.google.com/github/Durgaprasath01415/Python_Practice_CodeKata_Numbers/blob/main/1_You_are_given_a_number_%E2%80%98n%E2%80%99_You_have_to_tell_whether_a_number_is_great_or_not_A_great_number_is_a_number_whose_sum_of_digits_let_(m)_and_product_of_digits_let(j)_when_summed_together_gives_the_number_back_m%2Bj%3Dnipynb.ipynb\" target=\"_parent\"><img src=\"https://colab.research.google.com/assets/colab-badge.svg\" alt=\"Open In Colab\"/></a>"
      ]
    },
    {
      "cell_type": "markdown",
      "source": [
        "You are given a number ‘n’. You have to tell whether a number is great or not. A great number is a number whose sum of digits let (m) and product of digits let(j) when summed together gives the number back\n",
        "m+j=n\n",
        "\n",
        "Input Description:\n",
        "You are given a number n;\n",
        "\n",
        "Output Description:\n",
        "Print Great if a number is great else print the no\n",
        "\n",
        "Sample Input :\n",
        "59\n",
        "Sample Output :\n",
        "Great\n"
      ],
      "metadata": {
        "id": "VqCUc2F_fpzK"
      }
    },
    {
      "cell_type": "code",
      "execution_count": null,
      "metadata": {
        "colab": {
          "base_uri": "https://localhost:8080/"
        },
        "id": "mKV5GVx3RgZw",
        "outputId": "32f92979-bcf1-4537-d9a9-8d579990ee50"
      },
      "outputs": [
        {
          "output_type": "stream",
          "name": "stdout",
          "text": [
            "53\n",
            "8 15\n",
            "not\n"
          ]
        }
      ],
      "source": [
        "n = int(input())\n",
        "N = n\n",
        "#m = sum_of_digit\n",
        "#j = product_of_digit\n",
        "# if (m+j = n) -> great else not\n",
        "\n",
        "s = 0\n",
        "p = 1\n",
        "\n",
        "while n != 0:\n",
        "    r = n%10\n",
        "    s += r\n",
        "    p *= r\n",
        "    n //= 10\n",
        "print(s,p)\n",
        "if (s+p) == N:\n",
        "    print(\"Great\")\n",
        "else:\n",
        "    print(\"no\")"
      ]
    }
  ]
}